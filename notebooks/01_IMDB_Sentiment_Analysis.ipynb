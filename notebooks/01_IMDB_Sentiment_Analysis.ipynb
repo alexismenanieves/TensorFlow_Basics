{
 "cells": [
  {
   "cell_type": "code",
   "execution_count": 1,
   "metadata": {},
   "outputs": [],
   "source": [
    "# Step 0. Load libraries and custom functions\n",
    "# Matrices and datasets ------------------------------------------------\n",
    "import pandas as pd\n",
    "import numpy as np\n",
    "# Graphics -------------------------------------------------------------\n",
    "import matplotlib.pyplot as plt\n",
    "import seaborn as sns\n",
    "# Machine Learning -----------------------------------------------------\n",
    "from sklearn.model_selection import train_test_split\n",
    "from sklearn.metrics import accuracy_score, f1_score\n",
    "from sklearn.metrics import confusion_matrix\n",
    "# Deep Learning --------------------------------------------------------\n",
    "import keras\n",
    "from keras import layers\n",
    "from keras.preprocessing.text import Tokenizer\n",
    "from keras.preprocessing.sequence import pad_sequences\n",
    "\n",
    "# Custom functions -----------------------------------------------------\n",
    "def sentence_fixed_split(x:list, words: int):\n",
    "    \"\"\"\n",
    "    Split a list of sentences into a list of fixed length sentences.\n",
    "    param x: sentence as a list of words\n",
    "    param words: number of words in each sentence\n",
    "    return: list of fixed length sentences.\n",
    "    \"\"\"\n",
    "    if len(x)>1 and words > 1:\n",
    "        return [' '.join(x.split(' ')[i:i+10]) for i in range(0,len(x.split(' ')),10)]\n",
    "    else:\n",
    "        return x"
   ]
  },
  {
   "cell_type": "code",
   "execution_count": 2,
   "metadata": {},
   "outputs": [
    {
     "name": "stdout",
     "output_type": "stream",
     "text": [
      "<class 'pandas.core.frame.DataFrame'>\n",
      "RangeIndex: 50000 entries, 0 to 49999\n",
      "Data columns (total 2 columns):\n",
      " #   Column     Non-Null Count  Dtype \n",
      "---  ------     --------------  ----- \n",
      " 0   review     50000 non-null  object\n",
      " 1   sentiment  50000 non-null  object\n",
      "dtypes: object(2)\n",
      "memory usage: 781.4+ KB\n"
     ]
    }
   ],
   "source": [
    "# Step 1. Load data\n",
    "# 1.1 Read csv and get basic info\n",
    "df_raw = pd.read_csv('../data/01_IMDB_Dataset_HuggingFace.csv')\n",
    "df_raw.info()"
   ]
  },
  {
   "cell_type": "code",
   "execution_count": 3,
   "metadata": {},
   "outputs": [
    {
     "data": {
      "text/html": [
       "<div>\n",
       "<style scoped>\n",
       "    .dataframe tbody tr th:only-of-type {\n",
       "        vertical-align: middle;\n",
       "    }\n",
       "\n",
       "    .dataframe tbody tr th {\n",
       "        vertical-align: top;\n",
       "    }\n",
       "\n",
       "    .dataframe thead th {\n",
       "        text-align: right;\n",
       "    }\n",
       "</style>\n",
       "<table border=\"1\" class=\"dataframe\">\n",
       "  <thead>\n",
       "    <tr style=\"text-align: right;\">\n",
       "      <th></th>\n",
       "      <th>review</th>\n",
       "      <th>sentiment</th>\n",
       "    </tr>\n",
       "  </thead>\n",
       "  <tbody>\n",
       "    <tr>\n",
       "      <th>34021</th>\n",
       "      <td>OK, let me again admit that I haven't seen any...</td>\n",
       "      <td>negative</td>\n",
       "    </tr>\n",
       "    <tr>\n",
       "      <th>16800</th>\n",
       "      <td>It was simple and yet so nice. I think the who...</td>\n",
       "      <td>positive</td>\n",
       "    </tr>\n",
       "    <tr>\n",
       "      <th>6051</th>\n",
       "      <td>This utterly dull, senseless, pointless, spiri...</td>\n",
       "      <td>negative</td>\n",
       "    </tr>\n",
       "    <tr>\n",
       "      <th>39775</th>\n",
       "      <td>\"The Charge at Feather River\" is a routine Wes...</td>\n",
       "      <td>positive</td>\n",
       "    </tr>\n",
       "    <tr>\n",
       "      <th>38885</th>\n",
       "      <td>This group of English pros are a pleasure to w...</td>\n",
       "      <td>positive</td>\n",
       "    </tr>\n",
       "    <tr>\n",
       "      <th>12499</th>\n",
       "      <td>This movie shows me, that americans have no kn...</td>\n",
       "      <td>negative</td>\n",
       "    </tr>\n",
       "    <tr>\n",
       "      <th>22089</th>\n",
       "      <td>Payback is the game being played in this drama...</td>\n",
       "      <td>negative</td>\n",
       "    </tr>\n",
       "    <tr>\n",
       "      <th>35867</th>\n",
       "      <td>They're showing this on some off-network. It's...</td>\n",
       "      <td>negative</td>\n",
       "    </tr>\n",
       "    <tr>\n",
       "      <th>47147</th>\n",
       "      <td>It seems as if in Science Fiction you have thi...</td>\n",
       "      <td>negative</td>\n",
       "    </tr>\n",
       "    <tr>\n",
       "      <th>1387</th>\n",
       "      <td>A terrible amateur movie director (no, not Tod...</td>\n",
       "      <td>negative</td>\n",
       "    </tr>\n",
       "  </tbody>\n",
       "</table>\n",
       "</div>"
      ],
      "text/plain": [
       "                                                  review sentiment\n",
       "34021  OK, let me again admit that I haven't seen any...  negative\n",
       "16800  It was simple and yet so nice. I think the who...  positive\n",
       "6051   This utterly dull, senseless, pointless, spiri...  negative\n",
       "39775  \"The Charge at Feather River\" is a routine Wes...  positive\n",
       "38885  This group of English pros are a pleasure to w...  positive\n",
       "12499  This movie shows me, that americans have no kn...  negative\n",
       "22089  Payback is the game being played in this drama...  negative\n",
       "35867  They're showing this on some off-network. It's...  negative\n",
       "47147  It seems as if in Science Fiction you have thi...  negative\n",
       "1387   A terrible amateur movie director (no, not Tod...  negative"
      ]
     },
     "execution_count": 3,
     "metadata": {},
     "output_type": "execute_result"
    }
   ],
   "source": [
    "# 1.2 Get a sample\n",
    "df_raw.sample(10)"
   ]
  },
  {
   "cell_type": "code",
   "execution_count": 4,
   "metadata": {},
   "outputs": [
    {
     "data": {
      "text/plain": [
       "review\n",
       "Loved today's show!!! It was a variety and not solely cooking (which would have been great too). Very stimulating and captivating, always keeping the viewer peeking around the corner to see what was coming up next. She is as down to earth and as personable as you get, like one of us which made the show all the more enjoyable. Special guests, who are friends as well made for a nice surprise too. Loved the 'first' theme and that the audience was invited to play along too. I must admit I was shocked to see her come in under her time limits on a few things, but she did it and by golly I'll be writing those recipes down. Saving time in the kitchen means more time with family. Those who haven't tuned in yet, find out what channel and the time, I assure you that you won't be disappointed.                                                                                                                                                                                                                                                                                                                                                                                                                                                                                                                                                                                                                                                                                                                                                                                                                                                                                                                                                        5\n",
       "Hilarious, clean, light-hearted, and quote-worthy. What else can you ask for in a film? This is my all-time, number one favorite movie. Ever since I was a little girl, I've dreamed of owning a blue van with flames and an observation bubble.<br /><br />The cliché characters in ridiculous situations are what make this film such great fun. The wonderful comedic chemistry between Stephen Furst (Harold) and Andy Tennant (Melio) make up most of my favorite parts of the movie. And who didn't love the hopeless awkwardness of Flynch? Don't forget the airport antics of Leon's cronies, dressed up as Hari Krishnas: dancing, chanting and playing the tambourine--unbeatable! The clues are genius, the locations are classic, and the plot is timeless.<br /><br />A word to the wise, if you didn't watch this film when you were little, it probably won't win a place in your heart today. But nevertheless give it a chance, you may find that \"It doesn't matter what you say, it doesn't matter what you do, you've gotta play.\"                                                                                                                                                                                                                                                                                                                                                                                                                                                                                                                                                                                                                                                                                                                          4\n",
       "How has this piece of crap stayed on TV this long? It's terrible. It makes me want to shoot someone. It's so fake that it is actually worse than a 1940s sci-fi movie. I'd rather have a stroke than watch this nonsense. I remember watching it when it first came out. I thought, hey this could be interesting, then I found out how absolutely, insanely, ridiculously stupid it really was. It was so bad that I actually took out my pocket knife and stuck my hand to the table.<br /><br />Please people, stop watching this and all other reality shows, they're the trash that is jamming the networks and canceling quality programming that requires some thought to create.                                                                                                                                                                                                                                                                                                                                                                                                                                                                                                                                                                                                                                                                                                                                                                                                                                                                                                                                                                                                                                                                                        3\n",
       "Nickelodeon has gone down the toilet. They have kids saying things like \"Oh my God!\" and \"We're screwed\"<br /><br />This show promotes hate for people who aren't good looking, or aren't in the in crowd. It say that sexual promiscuity is alright, by having girls slobbering over shirtless boys. Not to mention the overweight boy who takes off his shirt. The main characters basically shun anyone out of the ordinary. Carly's friend Sam, who may be a lesbian, beats the snot out of anybody that crosses her path, which says it's alright to be a b**ch. This show has so much negativity in it that nobody should watch it! I give it a 0 out of 10!!!                                                                                                                                                                                                                                                                                                                                                                                                                                                                                                                                                                                                                                                                                                                                                                                                                                                                                                                                                                                                                                                                                                            3\n",
       "You do realize that you've been watching the EXACT SAME SHOW for eight years, right? I could understand the initial curiosity of seeing strangers co-exist on an Island, but you'd think that after watching unkempt, stink-ladened heroes run roughshod through the bush with an egg on a spoon for half a decade would be enough to get you to commit to something a little more original (and interesting).<br /><br />And I'm not even speaking of the shows validity which for the record I find questionable. It's just hard to suspend disbelief for \"Bushy Bill\" eating a rat when the entire crew of producers and camera people are housed in an air conditioned make-shift bio-dome sipping frosty mochcinno's with moxy.<br /><br />What's the appeal here? I don't care about these people or their meandering lives. I just don't get it. But if you DO find yourself being captivated by hairy, unwashed people, I suggest you turn off your TV and just take a trip to your local bus station where you can see people like this in their TRUE habitat. They call them HOMELESS PEOPLE, and free of charge, you can sit back and marvel in their uncanny ability to retrieve various cigarette debris from a plethora of garbage canisters, eventually striking \"pay-dirt\" and fashioning a homemade Dr. Frankenstein-styled cancer-stick, all the while begging people for change for food when the stink of \"Aqua Velva\" on their breath is enough to suggest otherwise. And the best part? Much like Survivor, every week one member of the tribe \"Leaves\" the \"Island\" when they are unceremoniously sent packing to the local Institution when the frightening unmedicated state of full-blown schizophrenia kicks into gear! Now THAT'S ENTERTAINMENT!    3\n",
       "                                                                                                                                                                                                                                                                                                                                                                                                                                                                                                                                                                                                                                                                                                                                                                                                                                                                                                                                                                                                                                                                                                                                                                                                                                                                                                                                                                                                                                                                                                                                                                                                                                                                                                                                                                               ..\n",
       "REVOLT OF THE ZOMBIES (2 outta 5 stars) No, this is not a long-lost ancestor to the classic George A. Romero zombie flicks. This is a low-budget potboiler from 1936 that probably seemed very cool to audiences of the time... but seems awfully routine these days. There is actually a pretty good scene at the start of a soldier firing off his pistol into a horde of approaching zombie soldiers... and a close-up of bullets entering the bare chest of one of them. The effect looks hopelessly fake these days but in 1936 I'm sure it had audiences gasping. The story concerns the search for the secret of mind control... ostensibly to create an unstoppable zombie army... but later as a means for one character to win the woman he loves. The movie is barely an hour long but moves at a snail's pace so it seems feature-length, believe me! There really isn't much to recommend it... you may get some amusement from the faked studio shots of the star \"wading\" through a \"swamp\". The ending is interesting... so I'd say the movie is worth seeing at least once. More than likely you will see it as an extra feature on some cheap \"4 movies on 1 DVD\" compilation at Wal-Mart for five bucks. Hey, it's well worth the money...                                                                                                                                                                                                                                                                                                                                                                                                                                                                                                                   1\n",
       "At least among those movies with 100 votes or more. Nominated for best screenplay written directly for the screen? Brenda Blethyn nominated for best actress in a leading role?? Nominated for best picture?? I always disagree with many of the Oscar picks, but this movie might very well be the worst movie of all time to be honored by the Academy. The writing and acting were both horrible. Blethyn's perfomance in particular was one of the worst I've ever seen, and probably the most over-rated acting performance of all time. Awful movie, not worthy of the big screen and not worthy of any cable or television channel that has ever played it, including HBO(where I saw it). I am only thankful I didn't actually pay to see one of the most over-rated movies of all time.                                                                                                                                                                                                                                                                                                                                                                                                                                                                                                                                                                                                                                                                                                                                                                                                                                                                                                                                                                                1\n",
       "I rented this movie under the impression that it was \"Scarecrow 3:Dark Harvest\", thinking it was a continuation in the Scarecrow Slayer series (another extremely laughable and all together awful series of movies). I wasn't disappointed though. It was just as awful, if not worse, than what I expected. I was laughing throughout the entire movie. Every piece of bad acting, poorly shot and cut footage, and terrible special effects is what makes this movie worth renting.<br /><br />The special features include a pathetic view into the cast and crew's six months of filming.<br /><br />Favorite line, \"The sins of my forefathers! They've trickled down to this very moment of time!\"                                                                                                                                                                                                                                                                                                                                                                                                                                                                                                                                                                                                                                                                                                                                                                                                                                                                                                                                                                                                                                                                       1\n",
       "Surreal film noir released soon after the \"real,\" genre-defining classics \"The Maltese Falcon,\" \"Double Indemnity\" and \"The Postman Always Rings Twice.\" Welles films shouldn't be evaluated against others. He was playing by different rules. In fact, he was playing. This starts where other femme fatale films leave off, so the vaguely logical (but interesting) whodunit is embellished with a display of Wellesian scenes (typical rapid-fire style), dialog (lots of \"hard-boiled\" philosophy), and unusual acting (good Hayworth presumably intentionally one-dimensional). To Welles \"genre\" may have meant \"formula\" but he seemed to like using \"mysteries\" as backgrounds for his \"entertainments.\"                                                                                                                                                                                                                                                                                                                                                                                                                                                                                                                                                                                                                                                                                                                                                                                                                                                                                                                                                                                                                                                              1\n",
       "No one expects the Star Trek movies to be high art, but the fans do expect a movie that is as good as some of the best episodes. Unfortunately, this movie had a muddled, implausible plot that just left me cringing - this is by far the worst of the nine (so far) movies. Even the chance to watch the well known characters interact in another movie can't save this movie - including the goofy scenes with Kirk, Spock and McCoy at Yosemite.<br /><br />I would say this movie is not worth a rental, and hardly worth watching, however for the True Fan who needs to see all the movies, renting this movie is about the only way you'll see it - even the cable channels avoid this movie.                                                                                                                                                                                                                                                                                                                                                                                                                                                                                                                                                                                                                                                                                                                                                                                                                                                                                                                                                                                                                                                                          1\n",
       "Name: count, Length: 49582, dtype: int64"
      ]
     },
     "execution_count": 4,
     "metadata": {},
     "output_type": "execute_result"
    }
   ],
   "source": [
    "# 1.3 Verify if there are duplicates\n",
    "df_raw['review'].value_counts()"
   ]
  },
  {
   "cell_type": "code",
   "execution_count": 5,
   "metadata": {},
   "outputs": [],
   "source": [
    "# 1.3 Preprocess data in order to avoid html tags and show result\n",
    "df_interim = df_raw.copy()\n",
    "df_interim['user_review'] = df_interim['review'].str.replace(r'(<.*?>)','',regex=True)\n",
    "df_interim['user_review'] = df_interim['user_review'].str.replace(r'\\s+',' ',regex=True)\n",
    "df_interim['user_review'] = df_interim['user_review'].str.replace(r'\\s,\\s',', ',regex=True)\n",
    "df_interim['user_review'] = df_interim['user_review'].str.replace(r'\\\\','',regex=True)\n",
    "df_interim['label'] = df_interim['sentiment'].apply(lambda x: 1 if x == 'positive' else 0)\n",
    "df_interim = df_interim.drop_duplicates()\n",
    "df_interim = df_interim.drop([44855],axis=0)\n",
    "#df_interim['reviews'] = df_interim['user_review'].apply(lambda x: sentence_fixed_split(x,2000))\n",
    "#df_interim = df_interim.explode('reviews')"
   ]
  },
  {
   "cell_type": "code",
   "execution_count": 6,
   "metadata": {},
   "outputs": [
    {
     "data": {
      "text/html": [
       "<div>\n",
       "<style scoped>\n",
       "    .dataframe tbody tr th:only-of-type {\n",
       "        vertical-align: middle;\n",
       "    }\n",
       "\n",
       "    .dataframe tbody tr th {\n",
       "        vertical-align: top;\n",
       "    }\n",
       "\n",
       "    .dataframe thead th {\n",
       "        text-align: right;\n",
       "    }\n",
       "</style>\n",
       "<table border=\"1\" class=\"dataframe\">\n",
       "  <thead>\n",
       "    <tr style=\"text-align: right;\">\n",
       "      <th></th>\n",
       "      <th>label</th>\n",
       "      <th>reviews</th>\n",
       "    </tr>\n",
       "  </thead>\n",
       "  <tbody>\n",
       "    <tr>\n",
       "      <th>0</th>\n",
       "      <td>1</td>\n",
       "      <td>One of the other reviewers has mentioned that ...</td>\n",
       "    </tr>\n",
       "    <tr>\n",
       "      <th>0</th>\n",
       "      <td>1</td>\n",
       "      <td>just 1 Oz episode you'll be hooked. They are r...</td>\n",
       "    </tr>\n",
       "    <tr>\n",
       "      <th>0</th>\n",
       "      <td>1</td>\n",
       "      <td>as this is exactly what happened with me.The f...</td>\n",
       "    </tr>\n",
       "    <tr>\n",
       "      <th>0</th>\n",
       "      <td>1</td>\n",
       "      <td>that struck me about Oz was its brutality and ...</td>\n",
       "    </tr>\n",
       "    <tr>\n",
       "      <th>0</th>\n",
       "      <td>1</td>\n",
       "      <td>scenes of violence, which set in right from th...</td>\n",
       "    </tr>\n",
       "    <tr>\n",
       "      <th>...</th>\n",
       "      <td>...</td>\n",
       "      <td>...</td>\n",
       "    </tr>\n",
       "    <tr>\n",
       "      <th>49999</th>\n",
       "      <td>0</td>\n",
       "      <td>McCoy at Yosemite.I would say this movie is no...</td>\n",
       "    </tr>\n",
       "    <tr>\n",
       "      <th>49999</th>\n",
       "      <td>0</td>\n",
       "      <td>a rental, and hardly worth watching, however f...</td>\n",
       "    </tr>\n",
       "    <tr>\n",
       "      <th>49999</th>\n",
       "      <td>0</td>\n",
       "      <td>Fan who needs to see all the movies, renting this</td>\n",
       "    </tr>\n",
       "    <tr>\n",
       "      <th>49999</th>\n",
       "      <td>0</td>\n",
       "      <td>movie is about the only way you'll see it -</td>\n",
       "    </tr>\n",
       "    <tr>\n",
       "      <th>49999</th>\n",
       "      <td>0</td>\n",
       "      <td>even the cable channels avoid this movie.</td>\n",
       "    </tr>\n",
       "  </tbody>\n",
       "</table>\n",
       "<p>1149049 rows × 2 columns</p>\n",
       "</div>"
      ],
      "text/plain": [
       "       label                                            reviews\n",
       "0          1  One of the other reviewers has mentioned that ...\n",
       "0          1  just 1 Oz episode you'll be hooked. They are r...\n",
       "0          1  as this is exactly what happened with me.The f...\n",
       "0          1  that struck me about Oz was its brutality and ...\n",
       "0          1  scenes of violence, which set in right from th...\n",
       "...      ...                                                ...\n",
       "49999      0  McCoy at Yosemite.I would say this movie is no...\n",
       "49999      0  a rental, and hardly worth watching, however f...\n",
       "49999      0  Fan who needs to see all the movies, renting this\n",
       "49999      0        movie is about the only way you'll see it -\n",
       "49999      0          even the cable channels avoid this movie.\n",
       "\n",
       "[1149049 rows x 2 columns]"
      ]
     },
     "execution_count": 6,
     "metadata": {},
     "output_type": "execute_result"
    }
   ],
   "source": [
    "df = df_interim.drop(['review','sentiment'], axis=1).copy()\n",
    "df"
   ]
  },
  {
   "cell_type": "code",
   "execution_count": 7,
   "metadata": {},
   "outputs": [
    {
     "data": {
      "text/html": [
       "<div>\n",
       "<style scoped>\n",
       "    .dataframe tbody tr th:only-of-type {\n",
       "        vertical-align: middle;\n",
       "    }\n",
       "\n",
       "    .dataframe tbody tr th {\n",
       "        vertical-align: top;\n",
       "    }\n",
       "\n",
       "    .dataframe thead th {\n",
       "        text-align: right;\n",
       "    }\n",
       "</style>\n",
       "<table border=\"1\" class=\"dataframe\">\n",
       "  <thead>\n",
       "    <tr style=\"text-align: right;\">\n",
       "      <th></th>\n",
       "      <th>label</th>\n",
       "      <th>reviews</th>\n",
       "    </tr>\n",
       "  </thead>\n",
       "  <tbody>\n",
       "    <tr>\n",
       "      <th>count</th>\n",
       "      <td>1.149049e+06</td>\n",
       "      <td>1149049</td>\n",
       "    </tr>\n",
       "    <tr>\n",
       "      <th>unique</th>\n",
       "      <td>NaN</td>\n",
       "      <td>1145145</td>\n",
       "    </tr>\n",
       "    <tr>\n",
       "      <th>top</th>\n",
       "      <td>NaN</td>\n",
       "      <td>it.</td>\n",
       "    </tr>\n",
       "    <tr>\n",
       "      <th>freq</th>\n",
       "      <td>NaN</td>\n",
       "      <td>143</td>\n",
       "    </tr>\n",
       "    <tr>\n",
       "      <th>mean</th>\n",
       "      <td>5.059262e-01</td>\n",
       "      <td>NaN</td>\n",
       "    </tr>\n",
       "    <tr>\n",
       "      <th>std</th>\n",
       "      <td>4.999651e-01</td>\n",
       "      <td>NaN</td>\n",
       "    </tr>\n",
       "    <tr>\n",
       "      <th>min</th>\n",
       "      <td>0.000000e+00</td>\n",
       "      <td>NaN</td>\n",
       "    </tr>\n",
       "    <tr>\n",
       "      <th>25%</th>\n",
       "      <td>0.000000e+00</td>\n",
       "      <td>NaN</td>\n",
       "    </tr>\n",
       "    <tr>\n",
       "      <th>50%</th>\n",
       "      <td>1.000000e+00</td>\n",
       "      <td>NaN</td>\n",
       "    </tr>\n",
       "    <tr>\n",
       "      <th>75%</th>\n",
       "      <td>1.000000e+00</td>\n",
       "      <td>NaN</td>\n",
       "    </tr>\n",
       "    <tr>\n",
       "      <th>max</th>\n",
       "      <td>1.000000e+00</td>\n",
       "      <td>NaN</td>\n",
       "    </tr>\n",
       "  </tbody>\n",
       "</table>\n",
       "</div>"
      ],
      "text/plain": [
       "               label  reviews\n",
       "count   1.149049e+06  1149049\n",
       "unique           NaN  1145145\n",
       "top              NaN      it.\n",
       "freq             NaN      143\n",
       "mean    5.059262e-01      NaN\n",
       "std     4.999651e-01      NaN\n",
       "min     0.000000e+00      NaN\n",
       "25%     0.000000e+00      NaN\n",
       "50%     1.000000e+00      NaN\n",
       "75%     1.000000e+00      NaN\n",
       "max     1.000000e+00      NaN"
      ]
     },
     "execution_count": 7,
     "metadata": {},
     "output_type": "execute_result"
    }
   ],
   "source": [
    "# Step 3. Create a basic data analysis\n",
    "# 3.1 Describe data\n",
    "df.describe(include='all')"
   ]
  },
  {
   "cell_type": "code",
   "execution_count": 9,
   "metadata": {},
   "outputs": [
    {
     "data": {
      "text/plain": [
       "count    1.149049e+06\n",
       "mean     5.454455e+01\n",
       "std      1.015836e+01\n",
       "min      0.000000e+00\n",
       "25%      4.900000e+01\n",
       "50%      5.400000e+01\n",
       "75%      6.000000e+01\n",
       "max      3.760000e+02\n",
       "Name: review_len, dtype: float64"
      ]
     },
     "execution_count": 9,
     "metadata": {},
     "output_type": "execute_result"
    }
   ],
   "source": [
    "# 3.2 Get statistics based on the len\n",
    "df['review_len'] = df['reviews'].str.len()\n",
    "df['review_len'].describe()"
   ]
  },
  {
   "cell_type": "code",
   "execution_count": 10,
   "metadata": {},
   "outputs": [
    {
     "data": {
      "image/png": "[encoded data removed]",
      "text/plain": [
       "<Figure size 640x480 with 1 Axes>"
      ]
     },
     "metadata": {},
     "output_type": "display_data"
    }
   ],
   "source": [
    "# 3.3 Plot review lenght histogram\n",
    "df['review_len'].hist()\n",
    "plt.show()"
   ]
  },
  {
   "cell_type": "code",
   "execution_count": 12,
   "metadata": {},
   "outputs": [
    {
     "data": {
      "text/plain": [
       "376"
      ]
     },
     "execution_count": 12,
     "metadata": {},
     "output_type": "execute_result"
    }
   ],
   "source": [
    "df['reviews'].str.len().max()"
   ]
  },
  {
   "cell_type": "code",
   "execution_count": null,
   "metadata": {},
   "outputs": [],
   "source": [
    "df[df['review_len']==13584].to_dict()"
   ]
  },
  {
   "cell_type": "code",
   "execution_count": null,
   "metadata": {},
   "outputs": [],
   "source": [
    "myfake = pd.DataFrame({'id':[1], 'text':[r\"didn\\'t get it\"]})\n",
    "myfake"
   ]
  },
  {
   "cell_type": "code",
   "execution_count": null,
   "metadata": {},
   "outputs": [],
   "source": [
    "myfake['text_clean']=myfake['text'].str.replace(r\"\\\\'\", \"'\", regex=True)\n",
    "myfake"
   ]
  },
  {
   "cell_type": "code",
   "execution_count": null,
   "metadata": {},
   "outputs": [],
   "source": [
    "myfake.to_dict()"
   ]
  },
  {
   "cell_type": "code",
   "execution_count": null,
   "metadata": {},
   "outputs": [],
   "source": [
    "myfake = pd.DataFrame({'text': [\"Humpty Dumpty sat on a wall, Humpty Dumpty had a great fall, All the king's horses and all the kings's men couldn't put Humpty together again\",\"Mary had a lamb\"],'label':[0,1]})\n",
    "myfake"
   ]
  },
  {
   "cell_type": "code",
   "execution_count": null,
   "metadata": {},
   "outputs": [],
   "source": [
    "myfake['text'].str.split(' ').str.len().max()"
   ]
  },
  {
   "cell_type": "code",
   "execution_count": null,
   "metadata": {},
   "outputs": [],
   "source": [
    "molist = \"Humpty Dumpty sat on a wall, Humpty Dumpty had a great fall, All the king's horses and all the kings's men couldn't put Humpty together again\"\n",
    "[' '.join(molist.split(' ')[i:i+10]) for i in range(0,len(molist.split(' ')),10)]"
   ]
  },
  {
   "cell_type": "code",
   "execution_count": null,
   "metadata": {},
   "outputs": [],
   "source": [
    "def sentence_fixed_split(x:list, words: int):\n",
    "    \"\"\"\n",
    "    Split a list of sentences into a list of fixed length sentences.\n",
    "    param x: sentence as a list of words\n",
    "    param words: number of words in each sentence\n",
    "    return: list of fixed length sentences.\n",
    "    \"\"\"\n",
    "    if len(x)>1 and words > 1:\n",
    "        return [' '.join(x.split(' ')[i:i+10]) for i in range(0,len(x.split(' ')),10)]\n",
    "    else:\n",
    "        return x"
   ]
  },
  {
   "cell_type": "code",
   "execution_count": null,
   "metadata": {},
   "outputs": [],
   "source": [
    "anew = sentence_fixed_split(molist, 10)"
   ]
  },
  {
   "cell_type": "code",
   "execution_count": null,
   "metadata": {},
   "outputs": [],
   "source": [
    "\n",
    "len(anew)"
   ]
  },
  {
   "cell_type": "code",
   "execution_count": null,
   "metadata": {},
   "outputs": [],
   "source": [
    "myfake['split'] = myfake['text'].apply(lambda x: len(x.split(' ')))\n",
    "myfake"
   ]
  },
  {
   "cell_type": "code",
   "execution_count": null,
   "metadata": {},
   "outputs": [],
   "source": [
    "# 3.2 Preprocess text data\n",
    "tokenizer = Tokenizer(num_words=10000)\n",
    "tokenizer.fit_on_texts(df['user_review'])\n",
    "sequences = tokenizer.texts_to_sequences(df['user_review'])\n",
    "X = pad_sequences(sequences, maxlen=200)"
   ]
  },
  {
   "cell_type": "code",
   "execution_count": null,
   "metadata": {},
   "outputs": [],
   "source": [
    "# Step 4. Create model and evaluate\n",
    "# 4.1 Split the dataset\n",
    "X_train, X_val, y_train, y_val = train_test_split(X, df['label'], test_size=0.2, random_state=42)"
   ]
  },
  {
   "cell_type": "code",
   "execution_count": null,
   "metadata": {},
   "outputs": [],
   "source": [
    "X_train.shape"
   ]
  },
  {
   "cell_type": "code",
   "execution_count": null,
   "metadata": {},
   "outputs": [],
   "source": [
    "# 4.2 Build the model\n",
    "imputs = keras.Input()"
   ]
  }
 ],
 "metadata": {
  "kernelspec": {
   "display_name": ".venv",
   "language": "python",
   "name": "python3"
  },
  "language_info": {
   "codemirror_mode": {
    "name": "ipython",
    "version": 3
   },
   "file_extension": ".py",
   "mimetype": "text/x-python",
   "name": "python",
   "nbconvert_exporter": "python",
   "pygments_lexer": "ipython3",
   "version": "3.10.11"
  }
 },
 "nbformat": 4,
 "nbformat_minor": 2
}
