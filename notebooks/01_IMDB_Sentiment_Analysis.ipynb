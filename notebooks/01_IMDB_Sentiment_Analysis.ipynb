{
 "cells": [
  {
   "cell_type": "code",
   "execution_count": 1,
   "metadata": {},
   "outputs": [],
   "source": [
    "# Step 0. Load libraries and custom functions\n",
    "# Matrices and datasets ------------------------------------------------\n",
    "import pandas as pd\n",
    "import numpy as np\n",
    "# Graphics -------------------------------------------------------------\n",
    "import matplotlib.pyplot as plt\n",
    "import seaborn as sns\n",
    "# Machine Learning -----------------------------------------------------\n",
    "from sklearn.model_selection import train_test_split\n",
    "from sklearn.metrics import accuracy_score, f1_score\n",
    "from sklearn.metrics import confusion_matrix\n",
    "# Deep Learning --------------------------------------------------------\n",
    "import keras\n",
    "from keras import layers\n",
    "from keras.layers import TextVectorization\n",
    "from keras.preprocessing.text import Tokenizer\n",
    "from keras.preprocessing.sequence import pad_sequences\n",
    "\n",
    "# Custom functions -----------------------------------------------------\n",
    "def sentence_fixed_split(x:list, words: int):\n",
    "    \"\"\"\n",
    "    Split a list of sentences into a list of fixed length sentences.\n",
    "    param x: sentence as a list of words\n",
    "    param words: number of fixed words required\n",
    "    return: list of fixed length sentences\n",
    "    \"\"\"\n",
    "    words_lenght = len(x.split(' '))\n",
    "    if words_lenght>1 and words > 1 and words_lenght > words:\n",
    "        return [' '.join(x.split(' ')[i:i+words]) for i in range(0, len(x.split(' ')), words)]\n",
    "    else:\n",
    "        return x"
   ]
  },
  {
   "cell_type": "code",
   "execution_count": null,
   "metadata": {},
   "outputs": [],
   "source": [
    "# Step 1. Load data\n",
    "# 1.1 Read csv and get basic info\n",
    "df_raw = pd.read_csv('../data/01_IMDB_Dataset_HuggingFace.csv')\n",
    "df_raw.info()"
   ]
  },
  {
   "cell_type": "code",
   "execution_count": null,
   "metadata": {},
   "outputs": [],
   "source": [
    "# 1.2 Get a sample\n",
    "df_raw.sample(10)"
   ]
  },
  {
   "cell_type": "code",
   "execution_count": null,
   "metadata": {},
   "outputs": [],
   "source": [
    "# 1.3 Verify if there are duplicates\n",
    "df_raw['review'].value_counts()"
   ]
  },
  {
   "cell_type": "code",
   "execution_count": null,
   "metadata": {},
   "outputs": [],
   "source": [
    "# 1.3 Preprocess data in order to avoid html tags and show result\n",
    "df_interim = df_raw.copy()\n",
    "# Get original lenght of words\n",
    "df_interim['original_len'] = df_interim['review'].apply(lambda x: len(x.split(' '))) \n",
    "# Supress html tags\n",
    "df_interim['user_review'] = df_interim['review'].str.replace(r'(<.*?>)','',regex=True)\n",
    "# In case of many white spaces, replace with only one white space\n",
    "df_interim['user_review'] = df_interim['user_review'].str.replace(r'\\s+',' ',regex=True)\n",
    "# In case of a space followed by a comma, replace with a comma followed by a space\n",
    "df_interim['user_review'] = df_interim['user_review'].str.replace(r'\\s,\\s',', ',regex=True)\n",
    "# Replace backslashes\n",
    "df_interim['user_review'] = df_interim['user_review'].str.replace(r'\\\\','',regex=True)\n",
    "# In case of three or more consecutive letters, replace with only two or less consecutive letters\n",
    "df_interim['user_review'] = df_interim['user_review'].str.replace(r'([a-zA-Z])\\1{2,}', r'\\1', regex=True)\n",
    "# Strip white spaces at the beginning and at the end of the review\n",
    "df_interim['user_review'] = df_interim['user_review'].str.strip()\n",
    "# Convert labels into integers\n",
    "df_interim['label'] = df_interim['sentiment'].apply(lambda x: 1 if x == 'positive' else 0)\n",
    "# Drop duplicates\n",
    "df_interim = df_interim.drop_duplicates()\n",
    "# There's a particular repeated row\n",
    "df_interim = df_interim.drop([44855],axis=0)\n",
    "# Apply custom function to split long sentences into more \n",
    "df_interim['reviews'] = df_interim['user_review'].apply(lambda x: sentence_fixed_split(x,1000))\n",
    "df_interim = df_interim.explode('reviews')"
   ]
  },
  {
   "cell_type": "code",
   "execution_count": null,
   "metadata": {},
   "outputs": [],
   "source": [
    "df = df_interim.drop(['review','sentiment','user_review'], axis=1).copy()\n",
    "df"
   ]
  },
  {
   "cell_type": "code",
   "execution_count": null,
   "metadata": {},
   "outputs": [],
   "source": [
    "# Step 3. Create a basic data analysis\n",
    "# 3.1 Describe data\n",
    "df.describe(include='all')"
   ]
  },
  {
   "cell_type": "code",
   "execution_count": null,
   "metadata": {},
   "outputs": [],
   "source": [
    "# 3.2 Get statistics based on the len\n",
    "df['review_len'] = df['reviews'].apply(lambda x: len(x.split(' ')))\n",
    "df['review_len'].describe()"
   ]
  },
  {
   "cell_type": "code",
   "execution_count": null,
   "metadata": {},
   "outputs": [],
   "source": [
    "# 3.3 Plot review lenght histogram\n",
    "df['review_len'].hist()\n",
    "plt.show()"
   ]
  },
  {
   "cell_type": "code",
   "execution_count": null,
   "metadata": {},
   "outputs": [],
   "source": [
    "# 3.2 Preprocess text data\n",
    "tokenizer = Tokenizer(num_words=10000)\n",
    "tokenizer.fit_on_texts(df['user_review'])\n",
    "sequences = tokenizer.texts_to_sequences(df['user_review'])\n",
    "X = pad_sequences(sequences, maxlen=200)"
   ]
  },
  {
   "cell_type": "code",
   "execution_count": null,
   "metadata": {},
   "outputs": [],
   "source": [
    "# Step 4. Create model and evaluate\n",
    "# 4.1 Split the dataset\n",
    "X_train, X_val, y_train, y_val = train_test_split(X, df['label'], test_size=0.2, random_state=42)"
   ]
  },
  {
   "cell_type": "code",
   "execution_count": null,
   "metadata": {},
   "outputs": [],
   "source": [
    "X_train.shape"
   ]
  },
  {
   "cell_type": "code",
   "execution_count": null,
   "metadata": {},
   "outputs": [],
   "source": [
    "# 4.2 Build the model\n",
    "imputs = keras.Input()"
   ]
  }
 ],
 "metadata": {
  "kernelspec": {
   "display_name": ".venv",
   "language": "python",
   "name": "python3"
  },
  "language_info": {
   "codemirror_mode": {
    "name": "ipython",
    "version": 3
   },
   "file_extension": ".py",
   "mimetype": "text/x-python",
   "name": "python",
   "nbconvert_exporter": "python",
   "pygments_lexer": "ipython3",
   "version": "3.10.11"
  }
 },
 "nbformat": 4,
 "nbformat_minor": 2
}
