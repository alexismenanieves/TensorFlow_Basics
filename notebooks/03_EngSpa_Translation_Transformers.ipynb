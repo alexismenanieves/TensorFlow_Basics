{
 "cells": [
  {
   "cell_type": "markdown",
   "metadata": {},
   "source": [
    "### **English to Spanish Translation** - Transformers application\n",
    "- **Date**: Mar 11, 2024  \n",
    "- **Task**: Create a model to translate sentences from English to Spanish using the attention mechanism \n",
    "- **Procedure**: Process the data, create nn model in TensorFlow, implement transformers\n",
    "- **Dataset source**: http://storage.googleapis.com/download.tensorflow.org/data/spa-eng.zip   \n",
    "- **References**: https://keras.io/examples/nlp/neural_machine_translation_with_transformer/"
   ]
  },
  {
   "cell_type": "code",
   "execution_count": null,
   "metadata": {},
   "outputs": [],
   "source": []
  },
  {
   "cell_type": "code",
   "execution_count": 3,
   "metadata": {},
   "outputs": [],
   "source": [
    "text_file = '../data/03_EngSpa_File.txt'\n",
    "with open(text_file) as f:\n",
    "  lines = f.read().split('\\n')[:-1]\n",
    "text_pairs = []\n",
    "for line in lines:\n",
    "  english, spanish = line.split('\\t')\n",
    "  spanish = '[start] ' + spanish + ' [end]'\n",
    "  text_pairs.append((english, spanish))"
   ]
  }
 ],
 "metadata": {
  "kernelspec": {
   "display_name": ".venv",
   "language": "python",
   "name": "python3"
  },
  "language_info": {
   "codemirror_mode": {
    "name": "ipython",
    "version": 3
   },
   "file_extension": ".py",
   "mimetype": "text/x-python",
   "name": "python",
   "nbconvert_exporter": "python",
   "pygments_lexer": "ipython3",
   "version": "3.10.11"
  }
 },
 "nbformat": 4,
 "nbformat_minor": 2
}
